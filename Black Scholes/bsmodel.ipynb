{
 "cells": [
  {
   "cell_type": "code",
   "execution_count": 33,
   "id": "d3c50ea9",
   "metadata": {},
   "outputs": [],
   "source": [
    "import pandas as pd \n",
    "import datetime as dt \n",
    "import yfinance as yf \n",
    "import numpy as np \n",
    "from scipy.stats import norm\n",
    "from curl_cffi import requests \n",
    "session = requests.Session(impersonate=\"chrome\")"
   ]
  },
  {
   "cell_type": "markdown",
   "id": "961de337",
   "metadata": {},
   "source": [
    "Setting up Variables "
   ]
  },
  {
   "cell_type": "code",
   "execution_count": 37,
   "id": "a6732b26",
   "metadata": {},
   "outputs": [],
   "source": [
    "contract_name = \"TATAMOTORS250828C700\"\n",
    "underlying_symbol = \"TATAMOTORS.NS\"\n",
    "\n",
    "#Set up dates \n",
    "current_date = dt.date.today()\n",
    "expiry_date = dt.date(2025, 8, 28)\n",
    "time_to_expiry = float((np.busday_count(current_date, expiry_date)+1))/252\n",
    "\n",
    "#risk_free_rate \n",
    "risk_free_rate = 0.07\n",
    "\n",
    "#Set up strike price\n",
    "strike_price = 700\n",
    "\n",
    "#Get Spot & Volatility\n",
    "ticker = yf.Ticker(underlying_symbol,session=session)"
   ]
  },
  {
   "cell_type": "markdown",
   "id": "c18e24bc",
   "metadata": {},
   "source": [
    "Get Spot & Vol"
   ]
  },
  {
   "cell_type": "code",
   "execution_count": 22,
   "id": "bdda5960",
   "metadata": {},
   "outputs": [],
   "source": [
    "hist_data = ticker.history(period=\"1y\")\n",
    "hist_data = hist_data[\"Close\"]\n",
    "hist_data.columns = [\"Close\"]"
   ]
  },
  {
   "cell_type": "code",
   "execution_count": 23,
   "id": "78413c91",
   "metadata": {},
   "outputs": [
    {
     "data": {
      "text/plain": [
       "Date\n",
       "2024-08-05 00:00:00+05:30    1007.785217\n",
       "2024-08-06 00:00:00+05:30    1005.108276\n",
       "2024-08-07 00:00:00+05:30    1016.559814\n",
       "2024-08-08 00:00:00+05:30    1032.869507\n",
       "2024-08-09 00:00:00+05:30    1058.994873\n",
       "                                ...     \n",
       "2025-07-29 00:00:00+05:30     692.349976\n",
       "2025-07-30 00:00:00+05:30     668.450012\n",
       "2025-07-31 00:00:00+05:30     665.950012\n",
       "2025-08-01 00:00:00+05:30     648.849976\n",
       "2025-08-04 00:00:00+05:30     653.599976\n",
       "Name: Close, Length: 250, dtype: float64"
      ]
     },
     "execution_count": 23,
     "metadata": {},
     "output_type": "execute_result"
    }
   ],
   "source": [
    "hist_data"
   ]
  },
  {
   "cell_type": "code",
   "execution_count": 27,
   "id": "302bfc79",
   "metadata": {},
   "outputs": [],
   "source": [
    "#Extracting Spot Price\n",
    "spot_price = hist_data.iloc[-1]"
   ]
  },
  {
   "cell_type": "code",
   "execution_count": 30,
   "id": "fd1208a3",
   "metadata": {},
   "outputs": [],
   "source": [
    "#Calculating Annualized Volatility\n",
    "daily_returns = hist_data.pct_change().dropna()\n",
    "volatility = daily_returns.std() * np.sqrt(252)"
   ]
  },
  {
   "cell_type": "code",
   "execution_count": 34,
   "id": "4246d69a",
   "metadata": {},
   "outputs": [],
   "source": [
    "# Black-Scholes Model Function\n",
    "def black_scholes_mode(inputs):\n",
    "    S = inputs['spot_price']\n",
    "    K = inputs['strike_price']\n",
    "    T = inputs['time_to_expiry']\n",
    "    r = inputs['risk_free_rate']\n",
    "    sigma = inputs['volatility']\n",
    "    \n",
    "    price = 0\n",
    "\n",
    "    # Calculate d1 and d2\n",
    "    d1 = (np.log(S / K) + (r + 0.5 * sigma ** 2) * T) / (sigma * np.sqrt(T))\n",
    "    d2 = d1 - sigma * np.sqrt(T)\n",
    "\n",
    "    if inputs['option_type'] == 'call':\n",
    "        price = (S * norm.cdf(d1) - K * np.exp(-r * T) * norm.cdf(d2))\n",
    "    else:\n",
    "        price = (K * np.exp(-r * T) * norm.cdf(-d2) - S * norm.cdf(-d1))\n",
    "\n",
    "    return price"
   ]
  },
  {
   "cell_type": "code",
   "execution_count": 38,
   "id": "89e1d68d",
   "metadata": {},
   "outputs": [],
   "source": [
    "#Prepare inputs for the model\n",
    "inputs = {\n",
    "    'spot_price': spot_price,\n",
    "    'strike_price': strike_price,\n",
    "    'time_to_expiry': time_to_expiry,\n",
    "    'risk_free_rate': risk_free_rate,\n",
    "    'volatility': volatility,\n",
    "    'option_type': 'call'  }\n"
   ]
  },
  {
   "cell_type": "code",
   "execution_count": 40,
   "id": "71bbaaf2",
   "metadata": {},
   "outputs": [
    {
     "name": "stdout",
     "output_type": "stream",
     "text": [
      "The Black-Scholes price for the call option is: 6.57\n"
     ]
    }
   ],
   "source": [
    "# Calculate Call Option Price\n",
    "call_option_price = black_scholes_mode(inputs)\n",
    "print(f\"The Black-Scholes price for the call option is: {call_option_price:.2f}\")"
   ]
  },
  {
   "cell_type": "code",
   "execution_count": 41,
   "id": "868d111a",
   "metadata": {},
   "outputs": [
    {
     "name": "stdout",
     "output_type": "stream",
     "text": [
      "The Black-Scholes price for the put option is: 49.48\n"
     ]
    }
   ],
   "source": [
    "# Calculate Put Option Price\n",
    "inputs['option_type'] = 'put'\n",
    "put_option_price = black_scholes_mode(inputs)\n",
    "print(f\"The Black-Scholes price for the put option is: {put_option_price:.2f}\")"
   ]
  },
  {
   "cell_type": "code",
   "execution_count": null,
   "id": "740f3ff7",
   "metadata": {},
   "outputs": [],
   "source": []
  }
 ],
 "metadata": {
  "kernelspec": {
   "display_name": ".venv (3.13.3)",
   "language": "python",
   "name": "python3"
  },
  "language_info": {
   "codemirror_mode": {
    "name": "ipython",
    "version": 3
   },
   "file_extension": ".py",
   "mimetype": "text/x-python",
   "name": "python",
   "nbconvert_exporter": "python",
   "pygments_lexer": "ipython3",
   "version": "3.13.3"
  }
 },
 "nbformat": 4,
 "nbformat_minor": 5
}
