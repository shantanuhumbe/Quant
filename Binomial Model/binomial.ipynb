{
 "cells": [
  {
   "cell_type": "markdown",
   "id": "167ff65f",
   "metadata": {},
   "source": [
    "Binomial Model "
   ]
  },
  {
   "cell_type": "code",
   "execution_count": 78,
   "id": "37dad5ae",
   "metadata": {},
   "outputs": [],
   "source": [
    "import pandas as pd\n",
    "import datetime as dt\n",
    "import yfinance as yf\n",
    "import numpy as np\n",
    "from curl_cffi import requests\n",
    "session = requests.Session(impersonate=\"chrome\")"
   ]
  },
  {
   "cell_type": "markdown",
   "id": "f67dbbf9",
   "metadata": {},
   "source": [
    "Setting up Variables (Setting expiry date and strike manually)"
   ]
  },
  {
   "cell_type": "code",
   "execution_count": null,
   "id": "c9169aa7",
   "metadata": {},
   "outputs": [],
   "source": [
    "contract_name = 'TATAMOTORS250529C780'\n",
    "underlying_symbol = 'TATAMOTORS.NS'\n",
    "\n",
    "# Get the current date and Time to Expiry \n",
    "current_date = dt.date.today()\n",
    "expiry_date = dt.date(2025, 5, 29)\n",
    "time_to_expiry = float((np.busday_count(current_date, expiry_date)+1))/252  #Assuming Trading hours to be started today\n",
    "time_steps = 5\n",
    "delta_t = time_to_expiry / time_steps\n",
    "\n",
    "# Risk-free rate\n",
    "risk_free_rate = 0.0737\n",
    "\n",
    "\n",
    "# Getting the ticker object to calcualate volatility & get the underlying price\n",
    "ticker = yf.Ticker(underlying_symbol,session=session) \n"
   ]
  },
  {
   "cell_type": "markdown",
   "id": "759afb7b",
   "metadata": {},
   "source": [
    "Getting volatility of underlyer"
   ]
  },
  {
   "cell_type": "code",
   "execution_count": 108,
   "id": "ed8d283a",
   "metadata": {},
   "outputs": [],
   "source": [
    "hist_data = ticker.history(period='1y')\n",
    "hist_data = hist_data['Close']\n",
    "hist_data.columns = ['Close']"
   ]
  },
  {
   "cell_type": "code",
   "execution_count": 109,
   "id": "813e793a",
   "metadata": {},
   "outputs": [
    {
     "data": {
      "text/plain": [
       "Date\n",
       "2024-05-16 00:00:00+05:30    933.519226\n",
       "2024-05-17 00:00:00+05:30    942.790649\n",
       "2024-05-21 00:00:00+05:30    948.373352\n",
       "2024-05-22 00:00:00+05:30    944.585083\n",
       "2024-05-23 00:00:00+05:30    959.389343\n",
       "                                ...    \n",
       "2025-05-12 00:00:00+05:30    720.799988\n",
       "2025-05-13 00:00:00+05:30    707.700012\n",
       "2025-05-14 00:00:00+05:30    698.950012\n",
       "2025-05-15 00:00:00+05:30    728.099976\n",
       "2025-05-16 00:00:00+05:30    730.700012\n",
       "Name: Close, Length: 248, dtype: float64"
      ]
     },
     "execution_count": 109,
     "metadata": {},
     "output_type": "execute_result"
    }
   ],
   "source": [
    "hist_data"
   ]
  },
  {
   "cell_type": "code",
   "execution_count": 110,
   "id": "d41bbadf",
   "metadata": {},
   "outputs": [],
   "source": [
    "daily_change = []\n",
    "for i in range(1, len(hist_data)):\n",
    "    daily_change.append( (hist_data.iloc[i] - hist_data.iloc[i-1]) / hist_data.iloc[i-1])"
   ]
  },
  {
   "cell_type": "code",
   "execution_count": 111,
   "id": "f2487c31",
   "metadata": {},
   "outputs": [
    {
     "name": "stdout",
     "output_type": "stream",
     "text": [
      "Annualized Volatility: 32.53%\n"
     ]
    }
   ],
   "source": [
    "# Calculating the annualized volatility\n",
    "volatility = np.std(daily_change) * np.sqrt(252)  \n",
    "print(f\"Annualized Volatility: {volatility:.2%}\")"
   ]
  },
  {
   "cell_type": "code",
   "execution_count": 112,
   "id": "2995cfdd",
   "metadata": {},
   "outputs": [
    {
     "name": "stdout",
     "output_type": "stream",
     "text": [
      "Up factor (u): 1.0279\n",
      "Down factor (d): 0.9729\n"
     ]
    }
   ],
   "source": [
    "# Calculating up and down factors\n",
    "u = np.exp(volatility * np.sqrt(delta_t))\n",
    "d = np.exp(-volatility * np.sqrt(delta_t))\n",
    "print(f\"Up factor (u): {u:.4f}\")\n",
    "print(f\"Down factor (d): {d:.4f}\")"
   ]
  },
  {
   "cell_type": "code",
   "execution_count": 113,
   "id": "fce368d8",
   "metadata": {},
   "outputs": [
    {
     "name": "stdout",
     "output_type": "stream",
     "text": [
      "Risk-neutral probability (p): 0.5027\n"
     ]
    }
   ],
   "source": [
    "# Calculating risk-neutral probabilities\n",
    "p = (np.exp(risk_free_rate * delta_t) - d) / (u - d)\n",
    "q = 1 - p\n",
    "print(f\"Risk-neutral probability (p): {p:.4f}\")"
   ]
  },
  {
   "cell_type": "markdown",
   "id": "91b06700",
   "metadata": {},
   "source": [
    "Binomial Model"
   ]
  },
  {
   "cell_type": "code",
   "execution_count": 119,
   "id": "63d0a4e3",
   "metadata": {},
   "outputs": [],
   "source": [
    "# Binomial Model\n",
    "\n",
    "def payoff(S,K, call_put):\n",
    "    if call_put == 'call':\n",
    "        return max(0, S - K)\n",
    "    elif call_put == 'put':\n",
    "        return max(0, K - S)\n",
    "    else:\n",
    "        raise ValueError(\"Invalid option type. Use 'call' or 'put'.\")\n",
    "\n",
    "def binomial_model(S,K,r,delta_t,u,d,p,q,N,call_put):\n",
    "\n",
    "    if N == 0:\n",
    "        return payoff(S, K, call_put)\n",
    "    \n",
    "    S_up = S * u\n",
    "    S_down = S * d\n",
    "    C_up = binomial_model(S_up, K, r, delta_t, u, d, p, q, N-1, call_put)\n",
    "    C_down = binomial_model(S_down, K, r, delta_t, u, d, p, q, N-1, call_put)\n",
    "    C = (p * C_up + q * C_down) * np.exp(-r * delta_t)\n",
    "    #print(f\"Step {N}: S_up: {S_up:.2f}, S_down: {S_down:.2f}, C_up: {C_up:.2f}, C_down: {C_down:.2f}, C: {C:.2f}\")\n",
    "    return C\n"
   ]
  },
  {
   "cell_type": "code",
   "execution_count": 120,
   "id": "a27cb371",
   "metadata": {},
   "outputs": [
    {
     "name": "stdout",
     "output_type": "stream",
     "text": [
      "Call Price: 4.01\n",
      "Put Price: 6.08\n"
     ]
    }
   ],
   "source": [
    "\n",
    "call_price = binomial_model(hist_data.iloc[-1], 780, risk_free_rate, delta_t, u, d, p, q, time_steps, 'call')\n",
    "put_price = binomial_model(hist_data.iloc[-1], 700, risk_free_rate, delta_t, u, d, p, q, time_steps, 'put')\n",
    "print(f\"Call Price: {call_price:.2f}\")\n",
    "print(f\"Put Price: {put_price:.2f}\")"
   ]
  },
  {
   "cell_type": "code",
   "execution_count": null,
   "id": "2c4c64c5",
   "metadata": {},
   "outputs": [],
   "source": []
  }
 ],
 "metadata": {
  "kernelspec": {
   "display_name": ".venv",
   "language": "python",
   "name": "python3"
  },
  "language_info": {
   "codemirror_mode": {
    "name": "ipython",
    "version": 3
   },
   "file_extension": ".py",
   "mimetype": "text/x-python",
   "name": "python",
   "nbconvert_exporter": "python",
   "pygments_lexer": "ipython3",
   "version": "3.13.3"
  }
 },
 "nbformat": 4,
 "nbformat_minor": 5
}
